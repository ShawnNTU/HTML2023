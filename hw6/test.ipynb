{
 "cells": [
  {
   "cell_type": "code",
   "execution_count": 4,
   "metadata": {},
   "outputs": [
    {
     "name": "stderr",
     "output_type": "stream",
     "text": [
      "c:\\MiniConda\\lib\\site-packages\\libsvm\\svm.py:147: NumbaDeprecationWarning: \u001b[1mThe 'nopython' keyword argument was not supplied to the 'numba.jit' decorator. The implicit default value for this argument is currently False, but it will be changed to True in Numba 0.59.0. See https://numba.readthedocs.io/en/stable/reference/deprecation.html#deprecation-of-object-mode-fall-back-behaviour-when-using-jit for details.\u001b[0m\n",
      "  def csr_to_problem_jit(l, x_val, x_ind, x_rowptr, prob_val, prob_ind, prob_rowptr, indx_start):\n"
     ]
    }
   ],
   "source": [
    "import libsvm.svmutil as svm\n",
    "import numpy as np"
   ]
  },
  {
   "cell_type": "code",
   "execution_count": 5,
   "metadata": {},
   "outputs": [],
   "source": [
    "y_train, x_train = svm.svm_read_problem(\"train.txt\",return_scipy=True)\n",
    "y_train = y_train.reshape(-1,1)\n",
    "x_train = x_train.toarray()\n",
    "train_data = np.concatenate((y_train,x_train),axis=1)\n",
    "y_test, x_test = svm.svm_read_problem(\"test.txt\",return_scipy=True)\n",
    "y_test = y_test.reshape(-1,1)\n",
    "x_test = x_test.toarray()\n",
    "test_data = np.concatenate((y_test,x_test),axis=1)"
   ]
  },
  {
   "cell_type": "code",
   "execution_count": 25,
   "metadata": {},
   "outputs": [
    {
     "data": {
      "text/plain": [
       "array([[ 7.    ,  3.    ,  0.285 ,  0.225 ,  0.07  ,  0.1005,  0.0425,\n",
       "         0.0185,  0.035 ],\n",
       "       [10.    ,  1.    ,  0.62  ,  0.48  ,  0.165 ,  1.0855,  0.481 ,\n",
       "         0.2575,  0.305 ],\n",
       "       [12.    ,  2.    ,  0.415 ,  0.325 ,  0.105 ,  0.38  ,  0.1595,\n",
       "         0.0785,  0.12  ]])"
      ]
     },
     "execution_count": 25,
     "metadata": {},
     "output_type": "execute_result"
    }
   ],
   "source": [
    "train_data[:3]"
   ]
  },
  {
   "cell_type": "code",
   "execution_count": 6,
   "metadata": {},
   "outputs": [],
   "source": [
    "class Node():\n",
    "    def __init__(self) -> None:\n",
    "        self.left = None\n",
    "        self.right = None\n",
    "        self.parent = None\n",
    "        \n",
    "        self.best_dim = None\n",
    "        self.best_theta = None\n",
    "        self.best_y = None\n",
    "        self.is_leaf = False\n",
    "    def updateData(self,best_dim,best_s,best_theta):\n",
    "        self.best_dim = best_dim\n",
    "        self.best_s = best_s\n",
    "        self.best_theta = best_theta"
   ]
  },
  {
   "cell_type": "code",
   "execution_count": 11,
   "metadata": {},
   "outputs": [],
   "source": []
  },
  {
   "cell_type": "code",
   "execution_count": 7,
   "metadata": {},
   "outputs": [],
   "source": [
    "def check_all_same_y(y_array:np.array):\n",
    "    N = y_array.shape\n",
    "    y_1 = y_array[0]\n",
    "    y_1_array = np.ones(N) * y_1\n",
    "    # print(y_array,y_1_array)\n",
    "    return np.all(y_1_array == y_array)"
   ]
  },
  {
   "cell_type": "code",
   "execution_count": 41,
   "metadata": {},
   "outputs": [
    {
     "name": "stdout",
     "output_type": "stream",
     "text": [
      "[1 1 1 1 2] [1. 1. 1. 1. 1.]\n"
     ]
    },
    {
     "data": {
      "text/plain": [
       "False"
      ]
     },
     "execution_count": 41,
     "metadata": {},
     "output_type": "execute_result"
    }
   ],
   "source": [
    "a = np.array([1,1,1,1,2])\n",
    "# check_y(a)"
   ]
  },
  {
   "cell_type": "code",
   "execution_count": 8,
   "metadata": {},
   "outputs": [],
   "source": [
    "def check_all_same_x(x_array:np.array):\n",
    "    N, dim = x_array.shape\n",
    "    x_1 = x_array[0]\n",
    "    x_1_array = np.ones(N*dim).reshape(N,dim) * x_1\n",
    "    return np.all(x_1_array == x_array)"
   ]
  },
  {
   "cell_type": "code",
   "execution_count": 55,
   "metadata": {},
   "outputs": [
    {
     "data": {
      "text/plain": [
       "False"
      ]
     },
     "execution_count": 55,
     "metadata": {},
     "output_type": "execute_result"
    }
   ],
   "source": [
    "# a = np.ones(6).reshape(2,3)\n",
    "b = np.arange(6).reshape(2,3)\n",
    "c = np.array([[1,2,3],[1,2,3]])\n",
    "# a * b\n",
    "# check_x(b)"
   ]
  },
  {
   "cell_type": "code",
   "execution_count": 68,
   "metadata": {},
   "outputs": [
    {
     "data": {
      "text/plain": [
       "array([[2, 3],\n",
       "       [9, 1],\n",
       "       [5, 6],\n",
       "       [4, 8]])"
      ]
     },
     "execution_count": 68,
     "metadata": {},
     "output_type": "execute_result"
    }
   ],
   "source": [
    "a = np.array([2,9,5,4])\n",
    "b = np.array([3,1,6,8])\n",
    "c = np.column_stack((a,b))\n",
    "c"
   ]
  },
  {
   "cell_type": "code",
   "execution_count": 72,
   "metadata": {},
   "outputs": [
    {
     "data": {
      "text/plain": [
       "array([[2, 1],\n",
       "       [4, 3],\n",
       "       [5, 6],\n",
       "       [9, 8]])"
      ]
     },
     "execution_count": 72,
     "metadata": {},
     "output_type": "execute_result"
    }
   ],
   "source": [
    "np.sort(c,axis=0)"
   ]
  },
  {
   "cell_type": "code",
   "execution_count": 71,
   "metadata": {},
   "outputs": [
    {
     "data": {
      "text/plain": [
       "array([[2, 3],\n",
       "       [4, 8],\n",
       "       [5, 6],\n",
       "       [9, 1]])"
      ]
     },
     "execution_count": 71,
     "metadata": {},
     "output_type": "execute_result"
    }
   ],
   "source": [
    "c[np.argsort(c,axis=0)[:,0]]"
   ]
  },
  {
   "cell_type": "code",
   "execution_count": 75,
   "metadata": {},
   "outputs": [
    {
     "data": {
      "text/plain": [
       "-inf"
      ]
     },
     "execution_count": 75,
     "metadata": {},
     "output_type": "execute_result"
    }
   ],
   "source": [
    "(2 + -np.inf) / 2"
   ]
  },
  {
   "cell_type": "code",
   "execution_count": 82,
   "metadata": {},
   "outputs": [
    {
     "data": {
      "text/plain": [
       "(0, 0)"
      ]
     },
     "execution_count": 82,
     "metadata": {},
     "output_type": "execute_result"
    }
   ],
   "source": [
    "a = np.arange(6).reshape(2,3)\n",
    "np.unravel_index(a.argmin(),a.shape)"
   ]
  },
  {
   "cell_type": "code",
   "execution_count": 93,
   "metadata": {},
   "outputs": [
    {
     "data": {
      "text/plain": [
       "4"
      ]
     },
     "execution_count": 93,
     "metadata": {},
     "output_type": "execute_result"
    }
   ],
   "source": [
    "a = np.array([1,3,3,3,2,1])\n",
    "b = np.array([1,3,3,4,2,1])\n",
    "b[int(np.median([np.arange(b.size)[b == b.max()]]))]"
   ]
  },
  {
   "cell_type": "code",
   "execution_count": 9,
   "metadata": {},
   "outputs": [],
   "source": [
    "def decisionStumpRegression(data:np.array):\n",
    "    # data : (x,y)\n",
    "    N, _ = data.shape\n",
    "    data = data[np.argsort(data,axis=0)[:,0]] # sort along x value\n",
    "    impurity = np.zeros(N)\n",
    "    for index in range(1,N):\n",
    "        left_impurity = np.mean(np.square(data[:index,1] - np.mean(data[:index,1])))\n",
    "        right_impurity = np.mean(np.square(data[index:,1] - np.mean(data[index:,1])))\n",
    "        # left_size = index, right_size = N - index\n",
    "        impurity[index] = left_impurity * index + right_impurity * (N - index)\n",
    "    impurity[0] = np.sum(np.square(data[:,1] - np.mean(data[:,1])))\n",
    "    best_index = int(np.median(np.arange(N)[impurity == impurity.min()]))\n",
    "    # 0:best_index is left part, best_index:last is right part\n",
    "    if best_index == 0:\n",
    "        best_theta =  -np.inf\n",
    "    else:\n",
    "        best_theta = (data[best_index - 1,0] + data[best_index,0]) / 2\n",
    "    return best_index,impurity[best_index],best_theta"
   ]
  },
  {
   "cell_type": "code",
   "execution_count": 10,
   "metadata": {},
   "outputs": [],
   "source": [
    "def updateBestParameter(root:Node,data:np.array):\n",
    "    N, dim = data.shape\n",
    "    best_impurity = np.inf\n",
    "    for d in range(dim-1,0,-1): # dim includes y, so actually dim is dim + 1\n",
    "        temp_index,temp_impurity,temp_theta = decisionStumpRegression(np.column_stack((data[:,d],data[:,0]))) # (x,y)\n",
    "        if temp_impurity <= best_impurity:\n",
    "            best_index = temp_index\n",
    "            best_impurity = temp_impurity\n",
    "            best_theta = temp_theta\n",
    "            best_dim = d\n",
    "    \n",
    "    root.best_dim = best_dim\n",
    "    root.best_theta = best_theta\n",
    "    root.best_y = -1\n",
    "\n",
    "    return best_index"
   ]
  },
  {
   "cell_type": "code",
   "execution_count": 100,
   "metadata": {},
   "outputs": [
    {
     "data": {
      "text/plain": [
       "array([10,  9,  8,  7,  6,  5,  4,  3,  2,  1])"
      ]
     },
     "execution_count": 100,
     "metadata": {},
     "output_type": "execute_result"
    }
   ],
   "source": [
    "np.arange(10,0,-1)"
   ]
  },
  {
   "cell_type": "code",
   "execution_count": 11,
   "metadata": {},
   "outputs": [],
   "source": [
    "def CART(data:np.array,root:Node):\n",
    "    check_y_result = check_all_same_y(data[:,0])\n",
    "    if check_y_result == True:\n",
    "        root.is_leaf = True\n",
    "        root.best_y = data[0][0]\n",
    "        return\n",
    "    check_x_result = check_all_same_x(data[:,1:])\n",
    "    if check_x_result == True:\n",
    "        root.is_leaf = True\n",
    "        root.best_y = np.mean(data[:,0])\n",
    "        return\n",
    "    best_index = updateBestParameter(root,data)\n",
    "    \n",
    "    if best_index == 0:\n",
    "        root.best_y = np.mean(data[:,0])\n",
    "        root.is_leaf = True\n",
    "    else:\n",
    "        # sort along x value\n",
    "        left_part = data[np.argsort(data,axis=0)[:,root.best_dim]][:best_index]\n",
    "        right_part = data[np.argsort(data,axis=0)[:,root.best_dim]][best_index:]\n",
    "        \n",
    "        root.left = Node()\n",
    "        root.left.parent = root\n",
    "        \n",
    "        root.right = Node()\n",
    "        root.right.parent = root\n",
    "        \n",
    "        \n",
    "        CART(left_part,root.left)\n",
    "        CART(right_part,root.right)\n",
    "    "
   ]
  },
  {
   "cell_type": "code",
   "execution_count": 12,
   "metadata": {},
   "outputs": [],
   "source": [
    "root = Node()"
   ]
  },
  {
   "cell_type": "code",
   "execution_count": 20,
   "metadata": {},
   "outputs": [],
   "source": [
    "CART(train_data,root) "
   ]
  },
  {
   "cell_type": "code",
   "execution_count": 22,
   "metadata": {},
   "outputs": [],
   "source": [
    "from io import TextIOWrapper\n",
    "def printTree(root:Node,level:int,file:TextIOWrapper):\n",
    "    if root != None:\n",
    "        printTree(root.left,level+1,file)\n",
    "        print(\"\\t\" * level,end=\"\")\n",
    "        file.write(\"\\t\" * level)\n",
    "        if root.is_leaf == True:\n",
    "            print(f\"B_y:{root.best_y:.3f}, level:{level:2d}\")\n",
    "            file.write(f\"B_y:{root.best_y:.3f}, level:{level:2d}\\n\")\n",
    "        else:\n",
    "            print(f\"B_dim:{root.best_dim}, B_theta:{root.best_theta:.3f}, level:{level:2d}\")\n",
    "            file.write(f\"B_dim: {root.best_dim}, B_theta: {root.best_theta:.3f}, level:{level:2d}\\n\")\n",
    "        printTree(root.right,level+1,file)"
   ]
  },
  {
   "cell_type": "code",
   "execution_count": 25,
   "metadata": {},
   "outputs": [],
   "source": [
    "# F = open(\"result.txt\",'w')\n",
    "# printTree(root,0,F)\n",
    "# F.close()"
   ]
  },
  {
   "cell_type": "code",
   "execution_count": 29,
   "metadata": {},
   "outputs": [
    {
     "data": {
      "text/plain": [
       "array([[1, 2],\n",
       "       [3, 4],\n",
       "       [1, 2],\n",
       "       [3, 4]])"
      ]
     },
     "execution_count": 29,
     "metadata": {},
     "output_type": "execute_result"
    }
   ],
   "source": [
    "a = np.array([[1,2],[3,4]])\n",
    "b = np.array([[1,2],[3,4]])\n",
    "np.row_stack((a,b))"
   ]
  },
  {
   "cell_type": "code",
   "execution_count": 28,
   "metadata": {},
   "outputs": [
    {
     "data": {
      "text/plain": [
       "array([1, 2, 3, 4, 5])"
      ]
     },
     "execution_count": 28,
     "metadata": {},
     "output_type": "execute_result"
    }
   ],
   "source": [
    "b[0] = 10\n",
    "a"
   ]
  },
  {
   "cell_type": "code",
   "execution_count": 43,
   "metadata": {},
   "outputs": [],
   "source": [
    "def CARTprediction(root:Node,data:np.array):\n",
    "    if root != None:\n",
    "        if root.is_leaf == True:\n",
    "            data[:,-1] = root.best_y\n",
    "            return data[:,-2:]\n",
    "        else:\n",
    "            best_dim = root.best_dim\n",
    "            best_theta = root.best_theta\n",
    "            \n",
    "            left = data[data[:,best_dim] < best_theta]\n",
    "            right = data[data[:,best_dim] >= best_theta]\n",
    "            if left.size != 0 and right.size != 0: \n",
    "                y_pred_left = CARTprediction(root.left,left)\n",
    "                y_pred_right = CARTprediction(root.right,right)\n",
    "                return np.row_stack((y_pred_left,y_pred_right))\n",
    "            elif left.size != 0:\n",
    "                return CARTprediction(root.left,left)\n",
    "            elif right.size != 0:\n",
    "                return CARTprediction(root.right,right)"
   ]
  },
  {
   "cell_type": "code",
   "execution_count": 31,
   "metadata": {},
   "outputs": [
    {
     "data": {
      "text/plain": [
       "array([18.    ,  1.    ,  0.57  ,  0.475 ,  0.195 ,  1.0295,  0.4635,\n",
       "        0.1905,  0.305 ,  0.    ,  0.    ])"
      ]
     },
     "execution_count": 31,
     "metadata": {},
     "output_type": "execute_result"
    }
   ],
   "source": [
    "size = test_data.shape[0]\n",
    "test_data = np.column_stack((test_data,np.arange(size),np.zeros(size)))\n",
    "test_data[0]"
   ]
  },
  {
   "cell_type": "code",
   "execution_count": 38,
   "metadata": {},
   "outputs": [
    {
     "data": {
      "text/plain": [
       "array([[18.    ,  1.    ,  0.57  ,  0.475 ,  0.195 ,  1.0295,  0.4635,\n",
       "         0.1905,  0.305 ,  0.    ,  0.    ]])"
      ]
     },
     "execution_count": 38,
     "metadata": {},
     "output_type": "execute_result"
    }
   ],
   "source": []
  },
  {
   "cell_type": "code",
   "execution_count": 56,
   "metadata": {},
   "outputs": [],
   "source": [
    "y_pred = CARTprediction(root,test_data)"
   ]
  },
  {
   "cell_type": "code",
   "execution_count": 57,
   "metadata": {},
   "outputs": [],
   "source": [
    "y_pred = y_pred[np.argsort(y_pred,axis=0)[:,0]]"
   ]
  },
  {
   "cell_type": "code",
   "execution_count": 62,
   "metadata": {},
   "outputs": [
    {
     "data": {
      "text/plain": [
       "9.654042988741043"
      ]
     },
     "execution_count": 62,
     "metadata": {},
     "output_type": "execute_result"
    }
   ],
   "source": [
    "np.mean(np.square(y_pred[:,1] - test_data[:,0]))"
   ]
  },
  {
   "cell_type": "code",
   "execution_count": 97,
   "metadata": {},
   "outputs": [
    {
     "data": {
      "text/plain": [
       "18.452405"
      ]
     },
     "execution_count": 97,
     "metadata": {},
     "output_type": "execute_result"
    }
   ],
   "source": [
    "a = np.arange(20).reshape(10,2)\n",
    "sam = np.random.randint(0,10.0,10)\n",
    "max(err)"
   ]
  },
  {
   "cell_type": "code",
   "execution_count": 101,
   "metadata": {},
   "outputs": [],
   "source": [
    "import matplotlib.pyplot as plt\n",
    "import numpy as np\n",
    "\n",
    "err = np.genfromtxt(\"each_err.txt\")\n",
    "plt.figure(figsize=(10,5))\n",
    "plt.hist(err,bins=np.arange(7,20,1))\n",
    "plt.xticks(np.arange(7,20,1))\n",
    "plt.yticks(np.arange(100,1100,100))\n",
    "plt.grid()\n",
    "plt.savefig(\"Q11_plot\")\n",
    "plt.close()\n",
    "plt.figure(figsize=(10,10))\n",
    "avg_err = np.genfromtxt(\"avg_err.txt\")\n",
    "plt.plot(avg_err)\n",
    "plt.yticks(np.arange(9.5,12.25,0.25))\n",
    "plt.savefig(\"Q12_plot\")\n",
    "plt.close()\n"
   ]
  }
 ],
 "metadata": {
  "kernelspec": {
   "display_name": "base",
   "language": "python",
   "name": "python3"
  },
  "language_info": {
   "codemirror_mode": {
    "name": "ipython",
    "version": 3
   },
   "file_extension": ".py",
   "mimetype": "text/x-python",
   "name": "python",
   "nbconvert_exporter": "python",
   "pygments_lexer": "ipython3",
   "version": "3.10.8"
  }
 },
 "nbformat": 4,
 "nbformat_minor": 2
}
