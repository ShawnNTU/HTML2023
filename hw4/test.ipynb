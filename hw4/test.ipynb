{
 "cells": [
  {
   "cell_type": "code",
   "execution_count": 16,
   "metadata": {},
   "outputs": [
    {
     "data": {
      "text/plain": [
       "array([1.e-06, 1.e-04, 1.e-02, 1.e+00, 1.e+02])"
      ]
     },
     "execution_count": 16,
     "metadata": {},
     "output_type": "execute_result"
    }
   ],
   "source": [
    "import numpy as np\n",
    "data = np.genfromtxt(\"cooked_train\")\n",
    "lam = np.power(10.0, np.array([-6, -4, -2, 0, 2]))\n",
    "lam"
   ]
  },
  {
   "cell_type": "code",
   "execution_count": 17,
   "metadata": {},
   "outputs": [],
   "source": [
    "result = [0,0,0,0,0]\n",
    "for loop in range(128):\n",
    "    np.random.seed(loop)\n",
    "    np.random.shuffle(data)\n",
    "    x_train = np.matrix(data[:120,:-1])\n",
    "    y_label = np.matrix(data[:120,-1]).reshape(-1,1)\n",
    "    x_val = np.matrix(data[120:,:-1])\n",
    "    y_val = np.matrix(data[120:,-1]).reshape(-1,1)\n",
    "    XTX = x_train.T @ x_train\n",
    "    weight = []\n",
    "    for l in lam:\n",
    "        weight.append(np.linalg.inv(XTX + np.eye(84) * l) @ x_train.T @ y_label)\n",
    "    temp = []\n",
    "    for w in weight:\n",
    "        res = np.sign(x_val @ w)\n",
    "        res[res==0] = -1\n",
    "        temp.append(1 - (200 - np.sum(np.multiply(res,y_val))) / 400)\n",
    "    result[np.argmax(temp)] += 1"
   ]
  },
  {
   "cell_type": "code",
   "execution_count": 18,
   "metadata": {},
   "outputs": [
    {
     "data": {
      "text/plain": [
       "[3, 11, 57, 54, 3]"
      ]
     },
     "execution_count": 18,
     "metadata": {},
     "output_type": "execute_result"
    }
   ],
   "source": [
    "result"
   ]
  },
  {
   "cell_type": "code",
   "execution_count": 12,
   "metadata": {},
   "outputs": [
    {
     "data": {
      "text/plain": [
       "((120, 84), (120, 1))"
      ]
     },
     "execution_count": 12,
     "metadata": {},
     "output_type": "execute_result"
    }
   ],
   "source": [
    "\n",
    "x_train = np.matrix(data[:120,:-1])\n",
    "y_label = np.matrix(data[:120,-1]).reshape(-1,1)\n",
    "x_train.shape,y_label.shape"
   ]
  },
  {
   "cell_type": "code",
   "execution_count": 13,
   "metadata": {},
   "outputs": [],
   "source": [
    "x_val = np.matrix(data[120:,:-1])\n",
    "y_val = np.matrix(data[120:,-1]).reshape(-1,1)"
   ]
  },
  {
   "cell_type": "code",
   "execution_count": 5,
   "metadata": {},
   "outputs": [
    {
     "data": {
      "text/plain": [
       "array([1.e-06, 1.e-04, 1.e-02, 1.e+00, 1.e+02])"
      ]
     },
     "execution_count": 5,
     "metadata": {},
     "output_type": "execute_result"
    }
   ],
   "source": []
  },
  {
   "cell_type": "code",
   "execution_count": 14,
   "metadata": {},
   "outputs": [],
   "source": [
    "XTX = x_train.T @ x_train\n",
    "weight = []\n",
    "for l in lam:\n",
    "    weight.append(np.linalg.inv(XTX + np.eye(84) * l) @ x_train.T @ y_label)"
   ]
  },
  {
   "cell_type": "code",
   "execution_count": 15,
   "metadata": {},
   "outputs": [
    {
     "name": "stdout",
     "output_type": "stream",
     "text": [
      "0.625\n",
      "0.655\n",
      "0.625\n",
      "0.62\n",
      "0.6\n"
     ]
    }
   ],
   "source": [
    "for w in weight:\n",
    "    res = np.sign(x_val @ w)\n",
    "    res[res==0] = -1\n",
    "    print(1 - (200 - np.sum(np.multiply(res,y_val))) / 400)"
   ]
  }
 ],
 "metadata": {
  "kernelspec": {
   "display_name": "base",
   "language": "python",
   "name": "python3"
  },
  "language_info": {
   "codemirror_mode": {
    "name": "ipython",
    "version": 3
   },
   "file_extension": ".py",
   "mimetype": "text/x-python",
   "name": "python",
   "nbconvert_exporter": "python",
   "pygments_lexer": "ipython3",
   "version": "3.10.8"
  }
 },
 "nbformat": 4,
 "nbformat_minor": 2
}
