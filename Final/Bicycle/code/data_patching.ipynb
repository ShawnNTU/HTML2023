{
 "cells": [
  {
   "cell_type": "code",
   "execution_count": 1,
   "metadata": {},
   "outputs": [],
   "source": [
    "import json\n",
    "import os\n",
    "import copy"
   ]
  },
  {
   "cell_type": "markdown",
   "metadata": {},
   "source": [
    "### 自己設定的 json 排版"
   ]
  },
  {
   "cell_type": "code",
   "execution_count": 2,
   "metadata": {},
   "outputs": [],
   "source": [
    "class CustomEncoder(json.JSONEncoder):\n",
    "    def encode(self, o):\n",
    "        if isinstance(o, dict):\n",
    "            return '{\\n  ' + ', \\n  '.join(f'{json.dumps(k)}:{json.dumps(v)}' for k, v in o.items()) + '\\n}'\n",
    "        return super().encode(o)"
   ]
  },
  {
   "cell_type": "markdown",
   "metadata": {},
   "source": [
    "### 處理遺失資料的兩個函式\n",
    "\n",
    "`missingFixing` 用來處理一般情形。\n",
    "\n",
    "`missingFixingTailed` 用來處理特殊情形。\n",
    "\n",
    "所謂特殊情形是指遺失資料一直延續到 23:59，這樣導致無法在單一檔案內進行資料修補，需要找下一天的資料進行修補\n",
    "\n",
    ">但為了加快處理速度，所以我處理一般情形用 multiprocessing 來做，因此額外寫了 `data_cooking.py` 來執行\n",
    "\n",
    ">因為 jupyter notebook 跑 multiprocessing 會有 bug\n",
    "\n",
    "> 10/15 跟 10/11 遺失太多，所以我直接刪除\n",
    "\n",
    "### Bug Fixed\n",
    "\n",
    "dictionary 物件的賦值，是 shallow copy，所以 a = b 這樣的寫法，如果 b 被修改了， a 也會被修改 = =\n",
    "\n",
    "所以要用 `copy.deepcopy`"
   ]
  },
  {
   "cell_type": "code",
   "execution_count": 3,
   "metadata": {},
   "outputs": [],
   "source": [
    "# dealing with missing data\n",
    "# but 10/15 lost a lot of data, so I just delete data of that day\n",
    "def missingFixing(path:str):\n",
    "    with open(path,'r') as F:\n",
    "        data = json.load(fp=F)\n",
    "        keys = list(data.keys())\n",
    "        length = len(keys)\n",
    "        # index from -1 to -length\n",
    "        prev_data = {}\n",
    "        for index in range(1,length+1):\n",
    "            if data[keys[-index]] == {}:\n",
    "                if prev_data != {}:\n",
    "                    data[keys[-index]] = copy.deepcopy(prev_data)\n",
    "                    data[keys[-index]][\"Loss\"] = 1\n",
    "                else:\n",
    "                    continue\n",
    "            else:\n",
    "                prev_data = copy.deepcopy(data[keys[-index]])\n",
    "                if \"Loss\" not in data[keys[-index]].keys():\n",
    "                    data[keys[-index]][\"Loss\"] = 0\n",
    "        # if corrected > 0:\n",
    "    with open(path,'w') as F:\n",
    "        F.writelines(json.dumps(data,cls=CustomEncoder))"
   ]
  },
  {
   "cell_type": "code",
   "execution_count": 4,
   "metadata": {},
   "outputs": [],
   "source": [
    "def calculateNextday(day:str):\n",
    "    # extract month and date from current day\n",
    "    month = int(day[-4:-2]) \n",
    "    date = int(day[-2:])\n",
    "    month_31 = [1,3,5,7,8,10,12]\n",
    "    if month in month_31:\n",
    "        if date != 31:\n",
    "            next_date = date + 1\n",
    "            next_month = month\n",
    "        else:\n",
    "            next_date = 1\n",
    "            if month != 12:\n",
    "                next_month = month + 1\n",
    "            else:\n",
    "                next_month = 1\n",
    "    else:\n",
    "        if date != 30:\n",
    "            next_date = date + 1\n",
    "            next_month = month\n",
    "        else:\n",
    "            next_date = 1\n",
    "            next_month = month + 1\n",
    "    return next_date,next_month"
   ]
  },
  {
   "cell_type": "code",
   "execution_count": 9,
   "metadata": {},
   "outputs": [],
   "source": [
    "# dealing with missing data that has no value from the end\n",
    "def missingFixingTailed(day,sta):\n",
    "    if sta[-5:] != \".json\":\n",
    "        sta = sta + \".json\"\n",
    "    path = f\"./release/{day}/{sta}\"\n",
    "    corrected = 0\n",
    "    with open(path,'r') as F:\n",
    "        data = json.load(fp=F)\n",
    "        keys = list(data.keys())\n",
    "        # if list(data.values())[-1] == {}:\n",
    "        if list(data.values())[-1] == {}:\n",
    "            corrected = 1\n",
    "            \n",
    "            next_date,next_month = calculateNextday(day)\n",
    "            next_path = f\"./release/2023{next_month:02d}{next_date:02d}/{sta}\" # data (path) of the day after current date\n",
    "            \n",
    "            while True: # some station doesn't have data in the next day\n",
    "                try:\n",
    "                    with open(next_path,'r') as next_F:\n",
    "                        next_data = json.load(fp=next_F)\n",
    "                        next_keys = list(next_data.keys())\n",
    "                    break\n",
    "                except FileNotFoundError:\n",
    "                    next_date,next_month = calculateNextday(f\"{next_month:02d}{next_date:02d}\")\n",
    "                    next_path = f\"./release/2023{next_month:02d}{next_date:02d}/{sta}\" # data (path) of the day after current date\n",
    "                    continue\n",
    "            \n",
    "            data[keys[-1]] = copy.deepcopy(next_data[next_keys[0]])\n",
    "            data[keys[-1]][\"Loss\"] = 1\n",
    "            for i in range(2,1440):\n",
    "                # i from -2 to -1440\n",
    "                if data[keys[-i]] == {}:\n",
    "                    data[keys[-i]] = data[keys[-i + 1]]\n",
    "                    # here, whether they are same memory data doesn't matter\n",
    "                else:\n",
    "                    break\n",
    "    if corrected == 1:\n",
    "        with open(path,'w') as F:\n",
    "            F.writelines(json.dumps(data,cls=CustomEncoder))"
   ]
  },
  {
   "cell_type": "markdown",
   "metadata": {},
   "source": [
    "##### 普通情況的處理程序"
   ]
  },
  {
   "cell_type": "code",
   "execution_count": 6,
   "metadata": {},
   "outputs": [],
   "source": [
    "many_days = os.listdir('./release')"
   ]
  },
  {
   "cell_type": "code",
   "execution_count": 7,
   "metadata": {},
   "outputs": [
    {
     "data": {
      "text/plain": [
       "['20231222', '20231223', '20231224', '20231225']"
      ]
     },
     "execution_count": 7,
     "metadata": {},
     "output_type": "execute_result"
    }
   ],
   "source": [
    "many_days[-4:]"
   ]
  },
  {
   "cell_type": "code",
   "execution_count": 10,
   "metadata": {},
   "outputs": [
    {
     "name": "stdout",
     "output_type": "stream",
     "text": [
      "now:20231225\r"
     ]
    }
   ],
   "source": [
    "for day in many_days[-18:]:\n",
    "    print(f\"now:{day}\",end='\\r')\n",
    "    stations = os.listdir(f\"./release/{day}\")\n",
    "    for sta in stations:\n",
    "        missingFixing(f\"./release/{day}/{sta}\")"
   ]
  },
  {
   "cell_type": "markdown",
   "metadata": {},
   "source": [
    "##### 處理單一天的特殊遺失情形"
   ]
  },
  {
   "cell_type": "code",
   "execution_count": 10,
   "metadata": {},
   "outputs": [],
   "source": [
    "date = f\"20231223\"\n",
    "stations = os.listdir(f\"./release/{date}\")\n",
    "for sta in stations:\n",
    "    missingFixingTailed(day=date,sta=sta)    "
   ]
  },
  {
   "cell_type": "markdown",
   "metadata": {},
   "source": [
    "##### 處理 12 月的 1 號到 9 號的特殊遺失情形"
   ]
  },
  {
   "cell_type": "code",
   "execution_count": 13,
   "metadata": {},
   "outputs": [],
   "source": [
    "for day in range(8,26):\n",
    "    date = f\"202312{day:02d}\"\n",
    "    stations = os.listdir(f\"./release/{date}\")\n",
    "    for sta in stations:\n",
    "        missingFixingTailed(day=date,sta=sta)  "
   ]
  },
  {
   "cell_type": "markdown",
   "metadata": {},
   "source": [
    "##### 檢查是否有最後幾筆是遺失的特別情形"
   ]
  },
  {
   "cell_type": "code",
   "execution_count": 38,
   "metadata": {},
   "outputs": [],
   "source": [
    "many_days = os.listdir('./release')\n",
    "for day in many_days[:-1]:\n",
    "    stations = os.listdir(f\"./release/{day}\")\n",
    "    for sta in stations:\n",
    "        path = f\"./release/{day}/{sta}\"\n",
    "        with open(path,'r') as F :\n",
    "            data = json.load(fp=F)\n",
    "            value = list(data.values())\n",
    "            if value[-1] == {}:\n",
    "                print(f\"happen at {day} {sta}\")"
   ]
  },
  {
   "cell_type": "code",
   "execution_count": 37,
   "metadata": {},
   "outputs": [
    {
     "name": "stdout",
     "output_type": "stream",
     "text": [
      "happen at 20231210\n"
     ]
    }
   ],
   "source": [
    "many_days = os.listdir('./release')\n",
    "for day in many_days:\n",
    "    path = f\"./release/{day}/{500101181}.json\"\n",
    "    with open(path,'r') as F :\n",
    "        data = json.load(fp=F)\n",
    "        value = list(data.values())\n",
    "        if value[-1] == {}:\n",
    "            print(f\"happen at {day}\")\n",
    "        "
   ]
  }
 ],
 "metadata": {
  "kernelspec": {
   "display_name": "base",
   "language": "python",
   "name": "python3"
  },
  "language_info": {
   "codemirror_mode": {
    "name": "ipython",
    "version": 3
   },
   "file_extension": ".py",
   "mimetype": "text/x-python",
   "name": "python",
   "nbconvert_exporter": "python",
   "pygments_lexer": "ipython3",
   "version": "3.10.8"
  }
 },
 "nbformat": 4,
 "nbformat_minor": 2
}
