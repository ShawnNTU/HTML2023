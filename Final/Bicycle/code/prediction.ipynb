{
 "cells": [
  {
   "cell_type": "code",
   "execution_count": 4,
   "metadata": {},
   "outputs": [],
   "source": [
    "import os\n",
    "import json\n",
    "from datetime import date\n",
    "\n",
    "\n",
    "from sklearn import linear_model\n",
    "import numpy as np \n",
    "import pandas as pd\n",
    "import matplotlib.pyplot as plt\n",
    "from scipy.optimize import minimize\n",
    "import scipy\n",
    "\n",
    "\n",
    "\n",
    "import myfunction\n",
    "import GDTypeModel as gdt\n",
    "import MeanValueModel as mvm\n",
    "\n",
    "\n",
    "with open(\"./NTU_station.txt\", 'r') as F:\n",
    "    NTU_station = F.readline().split(\",\")\n",
    "many_days = os.listdir(\"./release\")[:-1]\n",
    "train_days = many_days[:-21]\n",
    "test_days = many_days[-21:]"
   ]
  },
  {
   "cell_type": "markdown",
   "metadata": {},
   "source": [
    "### GD 訓練時間\n",
    "\n",
    "29m 17.8s\n",
    "\n",
    "單純預測 12/18 ~ 12/24 loss 大約 0.48 左右\n",
    "\n",
    "但是如果同時預測 10/21 ~ 10/24，loss 會飆到 0.86 左右"
   ]
  },
  {
   "cell_type": "code",
   "execution_count": 4,
   "metadata": {},
   "outputs": [],
   "source": [
    "# NTU_GD_model = gdt.generateGDModels(NTU_station,train_days)\n",
    "# myfunction.saveModel(NTU_GD_model,\"./NTU_GD_model\")"
   ]
  },
  {
   "cell_type": "code",
   "execution_count": 5,
   "metadata": {},
   "outputs": [],
   "source": [
    "sta = \"500101181\"\n",
    "model = gdt.GDTypeModel()\n",
    "cal = myfunction.myDataloader(sta,train_days)\n",
    "model.training(cal,train_days)"
   ]
  },
  {
   "cell_type": "code",
   "execution_count": 3,
   "metadata": {},
   "outputs": [
    {
     "data": {
      "text/plain": [
       "[  message: CONVERGENCE: REL_REDUCTION_OF_F_<=_FACTR*EPSMCH\n",
       "   success: True\n",
       "    status: 0\n",
       "       fun: 0.4119296312821119\n",
       "         x: [ 7.456e-02  2.653e-03 ...  2.664e-03  3.840e-01]\n",
       "       nit: 215\n",
       "       jac: [ 1.001e-04  1.448e-04 ...  9.737e-05  1.027e-04]\n",
       "      nfev: 6069\n",
       "      njev: 289\n",
       "  hess_inv: <20x20 LbfgsInvHessProduct with dtype=float64>,\n",
       "   message: CONVERGENCE: REL_REDUCTION_OF_F_<=_FACTR*EPSMCH\n",
       "   success: True\n",
       "    status: 0\n",
       "       fun: 0.28605864157753036\n",
       "         x: [ 7.958e-03  6.331e-02 ...  5.266e-02  6.765e-01]\n",
       "       nit: 255\n",
       "       jac: [ 1.512e-04  1.467e-04 ...  9.861e-05  6.768e-05]\n",
       "      nfev: 7308\n",
       "      njev: 348\n",
       "  hess_inv: <20x20 LbfgsInvHessProduct with dtype=float64>,\n",
       "   message: CONVERGENCE: REL_REDUCTION_OF_F_<=_FACTR*EPSMCH\n",
       "   success: True\n",
       "    status: 0\n",
       "       fun: 0.3296946286848208\n",
       "         x: [ 1.420e-01  4.589e-02 ...  4.018e-02  3.803e-01]\n",
       "       nit: 301\n",
       "       jac: [-2.064e-04 -1.935e-04 ... -2.307e-04 -2.807e-04]\n",
       "      nfev: 8337\n",
       "      njev: 397\n",
       "  hess_inv: <20x20 LbfgsInvHessProduct with dtype=float64>,\n",
       "   message: CONVERGENCE: REL_REDUCTION_OF_F_<=_FACTR*EPSMCH\n",
       "   success: True\n",
       "    status: 0\n",
       "       fun: 0.3131316547205271\n",
       "         x: [ 1.051e-01 -8.026e-03 ...  8.739e-02  5.878e-01]\n",
       "       nit: 254\n",
       "       jac: [-6.812e-04 -7.452e-04 ... -7.785e-04 -9.121e-04]\n",
       "      nfev: 7161\n",
       "      njev: 341\n",
       "  hess_inv: <20x20 LbfgsInvHessProduct with dtype=float64>,\n",
       "   message: CONVERGENCE: REL_REDUCTION_OF_F_<=_FACTR*EPSMCH\n",
       "   success: True\n",
       "    status: 0\n",
       "       fun: 0.33650959344628323\n",
       "         x: [ 2.145e-01  8.255e-02 ... -1.023e-02  4.786e-01]\n",
       "       nit: 232\n",
       "       jac: [ 1.276e-04  1.385e-04 ...  1.494e-05  8.523e-05]\n",
       "      nfev: 6510\n",
       "      njev: 310\n",
       "  hess_inv: <20x20 LbfgsInvHessProduct with dtype=float64>,\n",
       "   message: CONVERGENCE: REL_REDUCTION_OF_F_<=_FACTR*EPSMCH\n",
       "   success: True\n",
       "    status: 0\n",
       "       fun: 0.39415019782372707\n",
       "         x: [-1.613e-03 -1.086e-02 ...  1.050e-01  5.823e-01]\n",
       "       nit: 308\n",
       "       jac: [ 4.595e-05  5.325e-05 ...  2.385e-04  2.585e-04]\n",
       "      nfev: 8526\n",
       "      njev: 406\n",
       "  hess_inv: <20x20 LbfgsInvHessProduct with dtype=float64>,\n",
       "   message: CONVERGENCE: REL_REDUCTION_OF_F_<=_FACTR*EPSMCH\n",
       "   success: True\n",
       "    status: 0\n",
       "       fun: 0.5722430909933885\n",
       "         x: [ 1.699e-01 -2.847e-01 ... -1.930e-01  7.449e-01]\n",
       "       nit: 207\n",
       "       jac: [-1.287e-03 -1.486e-03 ... -1.537e-03 -1.491e-03]\n",
       "      nfev: 5586\n",
       "      njev: 266\n",
       "  hess_inv: <20x20 LbfgsInvHessProduct with dtype=float64>]"
      ]
     },
     "execution_count": 3,
     "metadata": {},
     "output_type": "execute_result"
    }
   ],
   "source": [
    "model.GD_model\n"
   ]
  },
  {
   "cell_type": "code",
   "execution_count": 2,
   "metadata": {},
   "outputs": [],
   "source": [
    "NTU_GD_model = myfunction.loadModel(\"./NTU_GD_model\")"
   ]
  },
  {
   "cell_type": "code",
   "execution_count": 3,
   "metadata": {},
   "outputs": [],
   "source": [
    "interval_1204_1210 = many_days[-21:-14]\n",
    "interval_1211_1217 = many_days[-14:-7]\n",
    "interval_1218_1224 = many_days[-7:]"
   ]
  },
  {
   "cell_type": "code",
   "execution_count": 5,
   "metadata": {},
   "outputs": [
    {
     "data": {
      "text/plain": [
       "0.3526168611802814"
      ]
     },
     "execution_count": 5,
     "metadata": {},
     "output_type": "execute_result"
    }
   ],
   "source": [
    "a = gdt.optimizePrediction(NTU_GD_model, NTU_station, interval_1204_1210, interval_1211_1217)\n",
    "np.mean(a)"
   ]
  },
  {
   "cell_type": "code",
   "execution_count": 8,
   "metadata": {},
   "outputs": [
    {
     "data": {
      "text/plain": [
       "0.13655718290086943"
      ]
     },
     "execution_count": 8,
     "metadata": {},
     "output_type": "execute_result"
    }
   ],
   "source": [
    "np.std(a)"
   ]
  },
  {
   "cell_type": "code",
   "execution_count": 6,
   "metadata": {},
   "outputs": [
    {
     "data": {
      "text/plain": [
       "0.5107967950123723"
      ]
     },
     "execution_count": 6,
     "metadata": {},
     "output_type": "execute_result"
    }
   ],
   "source": [
    "b = gdt.optimizePrediction(NTU_GD_model, NTU_station, interval_1211_1217, interval_1218_1224)\n",
    "np.mean(b)"
   ]
  },
  {
   "cell_type": "code",
   "execution_count": 7,
   "metadata": {},
   "outputs": [
    {
     "data": {
      "text/plain": [
       "0.28022080191767296"
      ]
     },
     "execution_count": 7,
     "metadata": {},
     "output_type": "execute_result"
    }
   ],
   "source": [
    "np.std(b)"
   ]
  },
  {
   "cell_type": "code",
   "execution_count": 3,
   "metadata": {},
   "outputs": [],
   "source": [
    "# result_MV = pd.read_csv(\"./sample_submission_stage3.csv\")\n",
    "result_GD = pd.read_csv(\"./sample_submission_stage3.csv\")"
   ]
  },
  {
   "cell_type": "code",
   "execution_count": 4,
   "metadata": {},
   "outputs": [],
   "source": [
    "prev_Timestamp = myfunction.getPredictTimeStamp(result_GD,many_days)\n",
    "pred_GD = gdt.optimizePrediction(NTU_GD_model,NTU_station,prev_Timestamp)\n",
    "result_GD[\"sbi\"] = pred_GD"
   ]
  },
  {
   "cell_type": "code",
   "execution_count": 37,
   "metadata": {},
   "outputs": [
    {
     "data": {
      "text/plain": [
       "['20231007',\n",
       " '20231008',\n",
       " '20231016',\n",
       " '20231017',\n",
       " '20231211',\n",
       " '20231212',\n",
       " '20231213',\n",
       " '20231214',\n",
       " '20231215',\n",
       " '20231216',\n",
       " '20231217']"
      ]
     },
     "execution_count": 37,
     "metadata": {},
     "output_type": "execute_result"
    }
   ],
   "source": [
    "prev_Timestamp"
   ]
  },
  {
   "cell_type": "code",
   "execution_count": 5,
   "metadata": {},
   "outputs": [],
   "source": [
    "result_GD[[\"id\",\"sbi\"]].to_csv(\"GD2.csv\",index=False)"
   ]
  },
  {
   "cell_type": "code",
   "execution_count": 9,
   "metadata": {},
   "outputs": [],
   "source": [
    "sta = \"500101181\"\n",
    "model = NTU_GD_model[sta].GD_model"
   ]
  },
  {
   "cell_type": "code",
   "execution_count": 25,
   "metadata": {},
   "outputs": [
    {
     "ename": "TypeError",
     "evalue": "string indices must be integers",
     "output_type": "error",
     "traceback": [
      "\u001b[1;31m---------------------------------------------------------------------------\u001b[0m",
      "\u001b[1;31mTypeError\u001b[0m                                 Traceback (most recent call last)",
      "Cell \u001b[1;32mIn [25], line 11\u001b[0m\n\u001b[0;32m      9\u001b[0m cal_prev \u001b[38;5;241m=\u001b[39m myfunction\u001b[38;5;241m.\u001b[39mmyDataloaderCertainDay(sta,prev[i])\n\u001b[0;32m     10\u001b[0m cal_next \u001b[38;5;241m=\u001b[39m myfunction\u001b[38;5;241m.\u001b[39mmyDataloaderCertainDay(sta,\u001b[38;5;28mnext\u001b[39m[i])\n\u001b[1;32m---> 11\u001b[0m X,Y,Y_tot\u001b[38;5;241m=\u001b[39m \u001b[43mmyfunction\u001b[49m\u001b[38;5;241;43m.\u001b[39;49m\u001b[43mdataCombing\u001b[49m\u001b[43m(\u001b[49m\u001b[43mcal_prev\u001b[49m\u001b[43m,\u001b[49m\u001b[43mcal_next\u001b[49m\u001b[43m)\u001b[49m\n\u001b[0;32m     12\u001b[0m Y_pred \u001b[38;5;241m=\u001b[39m X \u001b[38;5;241m@\u001b[39m model[cal_prev[\u001b[38;5;241m0\u001b[39m][\u001b[38;5;241m3\u001b[39m]]\u001b[38;5;241m.\u001b[39mx\n\u001b[0;32m     13\u001b[0m loss \u001b[38;5;241m+\u001b[39m\u001b[38;5;241m=\u001b[39m myfunction\u001b[38;5;241m.\u001b[39mbicycleError(Y_pred,Y,Y_tot)\n",
      "File \u001b[1;32mc:\\Users\\shawn\\Desktop\\新增資料夾 (5)\\html.2023.final.data\\myfunction.py:76\u001b[0m, in \u001b[0;36mdataCombing\u001b[1;34m(current_day, next_week_day)\u001b[0m\n\u001b[0;32m     74\u001b[0m \u001b[38;5;28;01mfor\u001b[39;00m i \u001b[38;5;129;01min\u001b[39;00m \u001b[38;5;28mrange\u001b[39m(\u001b[38;5;241m21\u001b[39m,\u001b[38;5;241m1441\u001b[39m,\u001b[38;5;241m20\u001b[39m): \u001b[38;5;66;03m# don't forget it's end at 1441 not 1440\u001b[39;00m\n\u001b[0;32m     75\u001b[0m     X\u001b[38;5;241m.\u001b[39mappend(current_day[i\u001b[38;5;241m-\u001b[39m\u001b[38;5;241m20\u001b[39m:i,\u001b[38;5;241m-\u001b[39m\u001b[38;5;241m3\u001b[39m]) \u001b[38;5;66;03m# x_sbi\u001b[39;00m\n\u001b[1;32m---> 76\u001b[0m     Y\u001b[38;5;241m.\u001b[39mappend(\u001b[43mnext_week_day\u001b[49m\u001b[43m[\u001b[49m\u001b[43mi\u001b[49m\u001b[38;5;241;43m-\u001b[39;49m\u001b[38;5;241;43m1\u001b[39;49m\u001b[43m,\u001b[49m\u001b[38;5;241;43m-\u001b[39;49m\u001b[38;5;241;43m3\u001b[39;49m\u001b[43m]\u001b[49m) \u001b[38;5;66;03m# y_sbi\u001b[39;00m\n\u001b[0;32m     77\u001b[0m     Y_tot\u001b[38;5;241m.\u001b[39mappend(next_week_day[i\u001b[38;5;241m-\u001b[39m\u001b[38;5;241m1\u001b[39m,\u001b[38;5;241m-\u001b[39m\u001b[38;5;241m4\u001b[39m]) \u001b[38;5;66;03m# y_tot\u001b[39;00m\n\u001b[0;32m     78\u001b[0m X \u001b[38;5;241m=\u001b[39m np\u001b[38;5;241m.\u001b[39mstack(X,axis\u001b[38;5;241m=\u001b[39m\u001b[38;5;241m0\u001b[39m)\n",
      "\u001b[1;31mTypeError\u001b[0m: string indices must be integers"
     ]
    }
   ],
   "source": [
    "# prev = [\"20231007\",\"20231008\",\"20231016\",\"20231017\"]\n",
    "# next = [\"20231021\",\"20231022\",\"20231023\",\"20231024\"]\n",
    "\n",
    "prev = [\"20231211\",\"20231212\",\"20231213\",\"20231214\",\"20231215\",\"20231216\",\"20231217\"]\n",
    "next = [\"20231218\",\"20231219\",\"20231220\",\"20231221\",\"20231222\",\"20231223\",\"20231224\"]\n",
    "loss = 0\n",
    "for sta in NTU_station:\n",
    "    for i in range(4):\n",
    "        cal_prev = myfunction.myDataloaderCertainDay(sta,prev[i])\n",
    "        cal_next = myfunction.myDataloaderCertainDay(sta,next[i])\n",
    "        X,Y,Y_tot= myfunction.dataCombing(cal_prev,cal_next)\n",
    "        Y_pred = X @ model[cal_prev[0][3]].x\n",
    "        loss += myfunction.bicycleError(Y_pred,Y,Y_tot)"
   ]
  },
  {
   "cell_type": "code",
   "execution_count": 23,
   "metadata": {},
   "outputs": [
    {
     "data": {
      "text/plain": [
       "0.48385385853305574"
      ]
     },
     "execution_count": 23,
     "metadata": {},
     "output_type": "execute_result"
    }
   ],
   "source": [
    "loss / 7 / 112"
   ]
  },
  {
   "cell_type": "code",
   "execution_count": 18,
   "metadata": {},
   "outputs": [
    {
     "data": {
      "text/plain": [
       "0.2423584831024353"
      ]
     },
     "execution_count": 18,
     "metadata": {},
     "output_type": "execute_result"
    }
   ],
   "source": []
  },
  {
   "cell_type": "code",
   "execution_count": 63,
   "metadata": {},
   "outputs": [
    {
     "data": {
      "text/plain": [
       "(71, 20)"
      ]
     },
     "execution_count": 63,
     "metadata": {},
     "output_type": "execute_result"
    }
   ],
   "source": [
    "t2 = []\n",
    "for i in range(21,1441,20):\n",
    "    t2.append((cal_1210[:,-3])[i-20:i])\n",
    "t2 = np.stack(t2,axis=0)\n",
    "t2.shape"
   ]
  },
  {
   "cell_type": "code",
   "execution_count": 65,
   "metadata": {},
   "outputs": [
    {
     "data": {
      "text/plain": [
       "array([[0, 0, 0, ..., 0, 0, 0],\n",
       "       [0, 0, 0, ..., 0, 0, 0],\n",
       "       [0, 0, 1, ..., 0, 0, 0],\n",
       "       ...,\n",
       "       [0, 0, 0, ..., 2, 1, 1],\n",
       "       [1, 1, 1, ..., 0, 0, 0],\n",
       "       [0, 0, 0, ..., 0, 1, 1]])"
      ]
     },
     "execution_count": 65,
     "metadata": {},
     "output_type": "execute_result"
    }
   ],
   "source": [
    "t2"
   ]
  },
  {
   "cell_type": "code",
   "execution_count": 64,
   "metadata": {},
   "outputs": [
    {
     "name": "stderr",
     "output_type": "stream",
     "text": [
      "C:\\Users\\shawn\\AppData\\Local\\Temp\\ipykernel_20832\\2144833118.py:1: DeprecationWarning: elementwise comparison failed; this will raise an error in the future.\n",
      "  t2 == t1\n"
     ]
    },
    {
     "data": {
      "text/plain": [
       "False"
      ]
     },
     "execution_count": 64,
     "metadata": {},
     "output_type": "execute_result"
    }
   ],
   "source": [
    "t2 == t1"
   ]
  }
 ],
 "metadata": {
  "kernelspec": {
   "display_name": "Python 3 (ipykernel)",
   "language": "python",
   "name": "python3"
  },
  "language_info": {
   "codemirror_mode": {
    "name": "ipython",
    "version": 3
   },
   "file_extension": ".py",
   "mimetype": "text/x-python",
   "name": "python",
   "nbconvert_exporter": "python",
   "pygments_lexer": "ipython3",
   "version": "3.10.8"
  }
 },
 "nbformat": 4,
 "nbformat_minor": 2
}
