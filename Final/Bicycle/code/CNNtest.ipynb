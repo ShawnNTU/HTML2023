{
 "cells": [
  {
   "cell_type": "code",
   "execution_count": 8,
   "metadata": {},
   "outputs": [],
   "source": [
    "import os\n",
    "import json\n",
    "from datetime import date\n",
    "\n",
    "\n",
    "from sklearn import linear_model\n",
    "import numpy as np \n",
    "import pandas as pd\n",
    "import matplotlib.pyplot as plt\n",
    "from scipy.optimize import minimize\n",
    "import scipy\n",
    "import torch\n",
    "\n",
    "\n",
    "import myfunction\n",
    "import GDTypeModel as gdt\n",
    "import MeanValueModel as mvm\n",
    "import CNNModel as cnn\n",
    "\n",
    "with open(\"./NTU_station.txt\", 'r') as F:\n",
    "    NTU_station = F.readline().split(\",\")\n",
    "many_days = os.listdir(\"./release\")[:-1]\n",
    "train_days = many_days[14:-21] # 10/25 ~ 12/03"
   ]
  },
  {
   "cell_type": "markdown",
   "metadata": {},
   "source": [
    "### 訓練時間 49 m 36.1 s"
   ]
  },
  {
   "cell_type": "code",
   "execution_count": 2,
   "metadata": {},
   "outputs": [],
   "source": [
    "# NTU_CNN_model = cnn.generateCNNModels(NTU_station,train_days)"
   ]
  },
  {
   "cell_type": "code",
   "execution_count": 9,
   "metadata": {},
   "outputs": [],
   "source": [
    "# myfunction.saveModel(NTU_CNN_model, \"NTU_CNN_model\")\n",
    "NTU_CNN_model = myfunction.loadModel(\"NTU_CNN_model\")"
   ]
  },
  {
   "cell_type": "code",
   "execution_count": 3,
   "metadata": {},
   "outputs": [
    {
     "name": "stdout",
     "output_type": "stream",
     "text": [
      "20231211 20231212 20231213 20231214 20231215 20231216 20231217 20231218 20231219 20231220 20231221 20231222 20231223 20231224\n",
      "20231204 20231205 20231206 20231207 20231208 20231209 20231210 20231211 20231212 20231213 20231214 20231215 20231216 20231217\n"
     ]
    }
   ],
   "source": [
    "test_days1 = many_days[-14:]\n",
    "print(*test_days1)\n",
    "test_days2 = many_days[-21:-7]\n",
    "print(*test_days2)"
   ]
  },
  {
   "cell_type": "code",
   "execution_count": 4,
   "metadata": {},
   "outputs": [
    {
     "data": {
      "text/plain": [
       "0.4677221292808903"
      ]
     },
     "execution_count": 4,
     "metadata": {},
     "output_type": "execute_result"
    }
   ],
   "source": [
    "a = cnn.CNNModelPrediction(NTU_station,NTU_CNN_model,test_days1)\n",
    "np.mean(a)"
   ]
  },
  {
   "cell_type": "code",
   "execution_count": 6,
   "metadata": {},
   "outputs": [
    {
     "data": {
      "text/plain": [
       "0.21244930993267072"
      ]
     },
     "execution_count": 6,
     "metadata": {},
     "output_type": "execute_result"
    }
   ],
   "source": [
    "np.std(a)"
   ]
  },
  {
   "cell_type": "code",
   "execution_count": 5,
   "metadata": {},
   "outputs": [
    {
     "data": {
      "text/plain": [
       "0.3315233416358338"
      ]
     },
     "execution_count": 5,
     "metadata": {},
     "output_type": "execute_result"
    }
   ],
   "source": [
    "b = cnn.CNNModelPrediction(NTU_station,NTU_CNN_model,test_days2)\n",
    "np.mean(b)"
   ]
  },
  {
   "cell_type": "code",
   "execution_count": 7,
   "metadata": {},
   "outputs": [
    {
     "data": {
      "text/plain": [
       "0.12976612946080326"
      ]
     },
     "execution_count": 7,
     "metadata": {},
     "output_type": "execute_result"
    }
   ],
   "source": [
    "np.std(b)"
   ]
  }
 ],
 "metadata": {
  "kernelspec": {
   "display_name": "base",
   "language": "python",
   "name": "python3"
  },
  "language_info": {
   "codemirror_mode": {
    "name": "ipython",
    "version": 3
   },
   "file_extension": ".py",
   "mimetype": "text/x-python",
   "name": "python",
   "nbconvert_exporter": "python",
   "pygments_lexer": "ipython3",
   "version": "3.10.8"
  }
 },
 "nbformat": 4,
 "nbformat_minor": 2
}
