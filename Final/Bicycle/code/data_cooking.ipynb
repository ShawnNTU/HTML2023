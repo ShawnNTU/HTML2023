{
 "cells": [
  {
   "cell_type": "code",
   "execution_count": 1,
   "metadata": {},
   "outputs": [],
   "source": [
    "import os\n",
    "import json\n",
    "\n",
    "import sklearn\n",
    "import numpy as np \n",
    "import pandas as pd\n",
    "import matplotlib.pyplot as plt"
   ]
  },
  {
   "cell_type": "markdown",
   "metadata": {},
   "source": [
    "##### 將 NTU 的站點，還有有哪些日期讀取進來"
   ]
  },
  {
   "cell_type": "code",
   "execution_count": 5,
   "metadata": {},
   "outputs": [],
   "source": [
    "with open(\"./NTU_station.txt\", 'r') as F:\n",
    "    NTU_station = F.readline().split(\",\")\n",
    "many_days = os.listdir(\"./release\")"
   ]
  },
  {
   "cell_type": "markdown",
   "metadata": {},
   "source": [
    "##### 創建自己處理的資料的資料夾"
   ]
  },
  {
   "cell_type": "code",
   "execution_count": 3,
   "metadata": {},
   "outputs": [],
   "source": [
    "os.mkdir(\"./processed data\")\n",
    "for sta in NTU_station:\n",
    "    os.mkdir(f\"./processed data/{sta}\")\n",
    "NTU_station[:5]"
   ]
  },
  {
   "cell_type": "markdown",
   "metadata": {},
   "source": [
    "##### 將資料改成以站點為主，儲存每個站點在每天的資料\n",
    "\n",
    "##### 資料的格式為 [年, 月, 日, 星期, 小時, 分鐘, tot, sbi, act, Loss]\n",
    "\n",
    "下面有利用特別的換算法，可以將日期轉換為星期"
   ]
  },
  {
   "cell_type": "code",
   "execution_count": 4,
   "metadata": {},
   "outputs": [],
   "source": [
    "MONTH_VALUE = {10:6,11:2,12:4}\n",
    "# (日號＋月值＋年值＋過4＋世紀值－潤) % 7\n",
    "#   ?  +  ?  + 23 + 5 + 0 - 0 = 日 + 月 + 28 % 7\n",
    "# = 日 + 月 % 7 // 10, 11, 12 月月值分別是 6, 2, 4\n",
    "# 餘 0 代表星期日\n",
    "# print(f\"current sta:{sta}\")\n",
    "def dataTransform(sta:str):\n",
    "    for day in many_days[:-1]:\n",
    "        year = int(day[:4])\n",
    "        month = int(day[4:6])\n",
    "        date = int(day[6:])\n",
    "        the_day = (date + MONTH_VALUE[month]) % 7\n",
    "        cooked = []\n",
    "        err = 0\n",
    "        with open(f\"./release/{day}/{sta}.json\") as F:\n",
    "            data = json.load(fp=F)\n",
    "        for key, val in data.items():\n",
    "            hour = int(key[:2])\n",
    "            minute = int(key[3:])\n",
    "            try:\n",
    "                cooked.append([year,month,date,the_day,hour,minute,val[\"tot\"],val[\"sbi\"],int(val[\"act\"]),val[\"Loss\"]])\n",
    "            except KeyError:\n",
    "                err = 1\n",
    "                break\n",
    "        if err == 0:\n",
    "            np.savetxt(f\"./processed data/{sta}/{day}\",cooked,\"%d %d %d %d %d %d %d %d %d %d\")\n",
    "        else:\n",
    "            print(day,sta)\n",
    "            break"
   ]
  },
  {
   "cell_type": "code",
   "execution_count": null,
   "metadata": {},
   "outputs": [],
   "source": [
    "for sta in NTU_station:\n",
    "    # sta = '500101123'\n",
    "    dataTransform(sta)"
   ]
  }
 ],
 "metadata": {
  "kernelspec": {
   "display_name": "base",
   "language": "python",
   "name": "python3"
  },
  "language_info": {
   "codemirror_mode": {
    "name": "ipython",
    "version": 3
   },
   "file_extension": ".py",
   "mimetype": "text/x-python",
   "name": "python",
   "nbconvert_exporter": "python",
   "pygments_lexer": "ipython3",
   "version": "3.10.8"
  }
 },
 "nbformat": 4,
 "nbformat_minor": 2
}
