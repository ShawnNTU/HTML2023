{
 "cells": [
  {
   "cell_type": "code",
   "execution_count": 309,
   "metadata": {},
   "outputs": [],
   "source": [
    "import numpy as np\n",
    "import libsvm.svmutil as svm\n",
    "\n",
    "y_train, x_train = svm.svm_read_problem(\"train.txt\",return_scipy=True)"
   ]
  },
  {
   "cell_type": "code",
   "execution_count": 310,
   "metadata": {},
   "outputs": [],
   "source": [
    "x_train = x_train.toarray()\n",
    "# m = svm.svm_train(np.where(y_train == 4,1,-1),x_train,f\"-s 0 -t 1 -d 2 -g 1 -r 1 -c 1\")\n",
    "m = svm.svm_train(np.where(y_train == 4,1,-1),x_train,f\"-s 0 -t 1 -d 1 -g 1 -r 0 -c 1\")"
   ]
  },
  {
   "cell_type": "code",
   "execution_count": 311,
   "metadata": {},
   "outputs": [
    {
     "name": "stdout",
     "output_type": "stream",
     "text": [
      "svm_type: 0\n",
      " kernel_type: 1\n",
      " degree: 1\n",
      " gamma: 1.0\n",
      " coef0: 0.0\n",
      " cache_size: 100.0\n",
      " eps: 0.001\n",
      " C: 1.0\n",
      " nr_weight: 0\n",
      " weight_label: <ctypes.wintypes.LP_c_long object at 0x000001E6005981C0>\n",
      " weight: <libsvm.svm.LP_c_double object at 0x000001E600598240>\n",
      " nu: 0.5\n",
      " p: 0.1\n",
      " shrinking: 1\n",
      " probability: 0\n"
     ]
    }
   ],
   "source": [
    "print(m.param)"
   ]
  },
  {
   "cell_type": "code",
   "execution_count": 312,
   "metadata": {},
   "outputs": [],
   "source": [
    "SV = x_train[np.array(m.get_sv_indices()) - 1]"
   ]
  },
  {
   "cell_type": "code",
   "execution_count": 313,
   "metadata": {},
   "outputs": [],
   "source": [
    "SV_coef = np.array(m.get_sv_coef())"
   ]
  },
  {
   "cell_type": "code",
   "execution_count": 314,
   "metadata": {},
   "outputs": [
    {
     "data": {
      "text/plain": [
       "(931, 931)"
      ]
     },
     "execution_count": 314,
     "metadata": {},
     "output_type": "execute_result"
    }
   ],
   "source": [
    "alpha_matrix = SV_coef * SV_coef.T\n",
    "alpha_matrix.shape"
   ]
  },
  {
   "cell_type": "code",
   "execution_count": 322,
   "metadata": {},
   "outputs": [
    {
     "data": {
      "text/plain": [
       "(931, 931)"
      ]
     },
     "execution_count": 322,
     "metadata": {},
     "output_type": "execute_result"
    }
   ],
   "source": [
    "# kernel = np.exp(-1 * np.sum(np.square(SV[:,np.newaxis,:] - SV[np.newaxis,:,:]),axis=2))\n",
    "kernel = SV @ SV.T\n",
    "kernel.shape"
   ]
  },
  {
   "cell_type": "code",
   "execution_count": 323,
   "metadata": {},
   "outputs": [
    {
     "data": {
      "text/plain": [
       "0.0032301317158103656"
      ]
     },
     "execution_count": 323,
     "metadata": {},
     "output_type": "execute_result"
    }
   ],
   "source": [
    "np.sqrt(np.sum(kernel * alpha_matrix))"
   ]
  },
  {
   "cell_type": "code",
   "execution_count": 318,
   "metadata": {},
   "outputs": [
    {
     "data": {
      "text/plain": [
       "0.0032301313974241706"
      ]
     },
     "execution_count": 318,
     "metadata": {},
     "output_type": "execute_result"
    }
   ],
   "source": [
    "np.sqrt(np.sum(np.square(np.sum(SV_coef * SV,axis=0))))"
   ]
  },
  {
   "cell_type": "code",
   "execution_count": 321,
   "metadata": {},
   "outputs": [
    {
     "name": "stdout",
     "output_type": "stream",
     "text": [
      "Accuracy = 90.6426% (4020/4435) (classification)\n"
     ]
    }
   ],
   "source": [
    "a,b,c = svm.svm_predict(np.where(y_train == 4,1,-1),x_train,m)\n",
    "            "
   ]
  },
  {
   "cell_type": "code",
   "execution_count": 305,
   "metadata": {},
   "outputs": [
    {
     "name": "stdout",
     "output_type": "stream",
     "text": [
      "c_double(0.0)\n"
     ]
    }
   ],
   "source": [
    "print(m.param.weight.contents)"
   ]
  }
 ],
 "metadata": {
  "kernelspec": {
   "display_name": "base",
   "language": "python",
   "name": "python3"
  },
  "language_info": {
   "codemirror_mode": {
    "name": "ipython",
    "version": 3
   },
   "file_extension": ".py",
   "mimetype": "text/x-python",
   "name": "python",
   "nbconvert_exporter": "python",
   "pygments_lexer": "ipython3",
   "version": "3.10.8"
  }
 },
 "nbformat": 4,
 "nbformat_minor": 2
}
